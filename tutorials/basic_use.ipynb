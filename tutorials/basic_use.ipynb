{
 "cells": [
  {
   "cell_type": "markdown",
   "metadata": {},
   "source": [
    "Basic usage aglcheck\n",
    "==="
   ]
  },
  {
   "cell_type": "code",
   "execution_count": 23,
   "metadata": {},
   "outputs": [],
   "source": [
    "# import modules and functions we need\n",
    "from __future__ import print_function\n",
    "%matplotlib inline\n",
    "from IPython.core.display import HTML\n",
    "from aglcheck import compare_sets, examplestringdata, get_examplestringdata, htmltables, \\\n",
    "    read_stringdata, StringData, plotting"
   ]
  },
  {
   "cell_type": "markdown",
   "metadata": {},
   "source": [
    "Reading strings\n",
    "---"
   ]
  },
  {
   "cell_type": "markdown",
   "metadata": {},
   "source": [
    "Before we can do anything, we need to get the strings into a _StringData_ object. There are two ways of doing this."
   ]
  },
  {
   "cell_type": "markdown",
   "metadata": {},
   "source": [
    "1) Provide strings directly"
   ]
  },
  {
   "cell_type": "code",
   "execution_count": 2,
   "metadata": {},
   "outputs": [
    {
     "name": "stdout",
     "output_type": "stream",
     "text": [
      "All:\n",
      "    ABA  : ABA\n",
      "    BAB  : BAB\n",
      "    AABA : AABA\n",
      "    BBA  : BBA\n",
      "    BAA  : BAA\n",
      "    ABBA : ABBA\n",
      "\n",
      "\n"
     ]
    }
   ],
   "source": [
    "sd = StringData(strings=['ABA', 'BAB', 'AABA', 'BBA', 'BAA', 'ABBA'])\n",
    "print(sd)"
   ]
  },
  {
   "cell_type": "markdown",
   "metadata": {},
   "source": [
    "Note that the strings automaltically get labels that are identical to the strings themselves, since we didn't provide any different labels. "
   ]
  },
  {
   "cell_type": "markdown",
   "metadata": {},
   "source": [
    "2) Read strings from a special text file (yaml format) that is human readable and writeable and that contains the string information. See '<a href=\"examplestringfilesimple.yaml\">examplestringfilesimple.yaml</a>' for an example that you can use as a template. This is more convenient if you have larger stringsets, or you want to save them."
   ]
  },
  {
   "cell_type": "code",
   "execution_count": 4,
   "metadata": {},
   "outputs": [
    {
     "name": "stdout",
     "output_type": "stream",
     "text": [
      "All:\n",
      "    ABA  : ABA\n",
      "    BAB  : BAB\n",
      "    AABA : AABA\n",
      "    BBA  : BBA\n",
      "    BAA  : BAA\n",
      "    ABBA : ABBA\n",
      "\n",
      "\n"
     ]
    }
   ],
   "source": [
    "sd = read_stringdata('examplestringfilesimple.yaml')\n",
    "print(sd)"
   ]
  },
  {
   "cell_type": "markdown",
   "metadata": {},
   "source": [
    "You can provide more information of the stringsets in such a file, for example descriptive string labels. And also string categories that can be used in comparisons. See for examle '<a href=\"examplestringfile.yaml\">examplestringfile.yaml</a>', which you can use as a template."
   ]
  },
  {
   "cell_type": "code",
   "execution_count": 7,
   "metadata": {},
   "outputs": [
    {
     "name": "stdout",
     "output_type": "stream",
     "text": [
      "All:\n",
      "    Go    : ABA\n",
      "    NoGo  : BAB\n",
      "    Test1 : BAA\n",
      "    Test2 : BBA\n",
      "    Test3 : AABA\n",
      "    Test4 : ABBA\n",
      "\n",
      "Training: [Go, NoGo]\n",
      "\n",
      "Test: [Test1, Test2, Test3, Test4]\n",
      "\n",
      "TestSimple: [Test1, Test2]\n",
      "\n",
      "TestComplex: [Test3, Test4]\n",
      "\n",
      "\n"
     ]
    }
   ],
   "source": [
    "sd = read_stringdata('examplestringfile.yaml')\n",
    "print(sd)"
   ]
  },
  {
   "cell_type": "markdown",
   "metadata": {},
   "source": [
    "Comparing strings\n",
    "---"
   ]
  },
  {
   "cell_type": "markdown",
   "metadata": {},
   "source": [
    "Next, we want to compare the strings in the data set, using a comparison function. For example, we want to look for the longest shared substrings."
   ]
  },
  {
   "cell_type": "code",
   "execution_count": 12,
   "metadata": {},
   "outputs": [],
   "source": [
    "cm = compare_sets.longestsharedsubstringlength(sd)"
   ]
  },
  {
   "cell_type": "markdown",
   "metadata": {},
   "source": [
    "The object that was returned, a ComparisonMatrix, can be used for different things, such as direct vizualization of the results in an image plot:"
   ]
  },
  {
   "cell_type": "code",
   "execution_count": 13,
   "metadata": {},
   "outputs": [
    {
     "data": {
      "image/png": "[encoded data removed]",
      "text/plain": [
       "<matplotlib.figure.Figure at 0x7f620ce1cdd8>"
      ]
     },
     "metadata": {},
     "output_type": "display_data"
    }
   ],
   "source": [
    "ax = plotting.plot_comparison(cm)"
   ]
  },
  {
   "cell_type": "markdown",
   "metadata": {},
   "source": [
    "You can also compare only specific string categories as long as they are defined in the stringdata:"
   ]
  },
  {
   "cell_type": "code",
   "execution_count": 24,
   "metadata": {},
   "outputs": [
    {
     "data": {
      "image/png": "[encoded data removed]",
      "text/plain": [
       "<matplotlib.figure.Figure at 0x7f620cb2a518>"
      ]
     },
     "metadata": {},
     "output_type": "display_data"
    }
   ],
   "source": [
    "cm = compare_sets.longestsharedsubstringlength(sd, comparison=('Test', 'Training'))\n",
    "ax = plotting.plot_comparison(cm)"
   ]
  },
  {
   "cell_type": "markdown",
   "metadata": {},
   "source": [
    "Or to get the results as a matrix that can be used for further evaluations:"
   ]
  },
  {
   "cell_type": "code",
   "execution_count": 16,
   "metadata": {},
   "outputs": [
    {
     "data": {
      "text/plain": [
       "[[3, 2, 2, 2, 3, 2],\n",
       " [2, 3, 2, 2, 2, 2],\n",
       " [2, 2, 3, 2, 2, 2],\n",
       " [2, 2, 2, 3, 2, 3],\n",
       " [3, 2, 2, 2, 4, 2],\n",
       " [2, 2, 2, 3, 2, 4]]"
      ]
     },
     "execution_count": 16,
     "metadata": {},
     "output_type": "execute_result"
    }
   ],
   "source": [
    "ct.get_matrix()"
   ]
  },
  {
   "cell_type": "markdown",
   "metadata": {
    "collapsed": true
   },
   "source": [
    "The order of the rows and columns correspond to the sequence of strings in the StringData object"
   ]
  },
  {
   "cell_type": "code",
   "execution_count": 17,
   "metadata": {},
   "outputs": [
    {
     "data": {
      "text/plain": [
       "['ABA', 'BAB', 'BAA', 'BBA', 'AABA', 'ABBA']"
      ]
     },
     "execution_count": 17,
     "metadata": {},
     "output_type": "execute_result"
    }
   ],
   "source": [
    "sd.strings"
   ]
  },
  {
   "cell_type": "markdown",
   "metadata": {},
   "source": [
    "Alternatively, you want an HTML table that highlights the longest shared substrings. The returned HTML code can be written to file or shown in a notebook. To do the latter use the ipython HTML function. "
   ]
  },
  {
   "cell_type": "code",
   "execution_count": 20,
   "metadata": {},
   "outputs": [
    {
     "data": {
      "text/html": [
       "<style>thead {align:center;}tbody {color:black;}table, th, td {border: 1px solid black; border-collapse: collapse;} th, td {padding: 15px;}</style><table><caption>Longest shared substrings</caption><thead><tr><th></th><th scope=\"col\"><span style=\"color:blue\">Go</span><br>ABA</th><th scope=\"col\"><span style=\"color:blue\">NoGo</span><br>BAB</th><th scope=\"col\"><span style=\"color:green\">Test1</span><br>BAA</th><th scope=\"col\"><span style=\"color:green\">Test2</span><br>BBA</th><th scope=\"col\"><span style=\"color:#ff0000\">Test3</span><br>AABA</th><th scope=\"col\"><span style=\"color:#ff0000\">Test4</span><br>ABBA</th></tr></thead><tr><th scope=\"row\"><span style=\"color:blue\">Go</span><br>ABA</th><td><span style=\"color:#FF4500\">ABA</span>&nbsp;&nbsp;<span style=\"color:#FF4500\">ABA</span><br></td><td>A<span style=\"color:#FF4500\">BA</span>&nbsp;&nbsp;<span style=\"color:#FF4500\">BA</span>B<br><span style=\"color:#FF4500\">AB</span>A&nbsp;&nbsp;B<span style=\"color:#FF4500\">AB</span><br></td><td>A<span style=\"color:#FF4500\">BA</span>&nbsp;&nbsp;<span style=\"color:#FF4500\">BA</span>A<br></td><td>A<span style=\"color:#FF4500\">BA</span>&nbsp;&nbsp;B<span style=\"color:#FF4500\">BA</span><br></td><td><span style=\"color:#FF4500\">ABA</span>&nbsp;&nbsp;A<span style=\"color:#FF4500\">ABA</span><br></td><td><span style=\"color:#FF4500\">AB</span>A&nbsp;&nbsp;<span style=\"color:#FF4500\">AB</span>BA<br>A<span style=\"color:#FF4500\">BA</span>&nbsp;&nbsp;AB<span style=\"color:#FF4500\">BA</span><br></td></tr><tr><th scope=\"row\"><span style=\"color:blue\">NoGo</span><br>BAB</th><td>B<span style=\"color:#FF4500\">AB</span>&nbsp;&nbsp;<span style=\"color:#FF4500\">AB</span>A<br><span style=\"color:#FF4500\">BA</span>B&nbsp;&nbsp;A<span style=\"color:#FF4500\">BA</span><br></td><td><span style=\"color:#FF4500\">BAB</span>&nbsp;&nbsp;<span style=\"color:#FF4500\">BAB</span><br></td><td><span style=\"color:#FF4500\">BA</span>B&nbsp;&nbsp;<span style=\"color:#FF4500\">BA</span>A<br></td><td><span style=\"color:#FF4500\">BA</span>B&nbsp;&nbsp;B<span style=\"color:#FF4500\">BA</span><br></td><td>B<span style=\"color:#FF4500\">AB</span>&nbsp;&nbsp;A<span style=\"color:#FF4500\">AB</span>A<br><span style=\"color:#FF4500\">BA</span>B&nbsp;&nbsp;AA<span style=\"color:#FF4500\">BA</span><br></td><td>B<span style=\"color:#FF4500\">AB</span>&nbsp;&nbsp;<span style=\"color:#FF4500\">AB</span>BA<br><span style=\"color:#FF4500\">BA</span>B&nbsp;&nbsp;AB<span style=\"color:#FF4500\">BA</span><br></td></tr><tr><th scope=\"row\"><span style=\"color:green\">Test1</span><br>BAA</th><td><span style=\"color:#FF4500\">BA</span>A&nbsp;&nbsp;A<span style=\"color:#FF4500\">BA</span><br></td><td><span style=\"color:#FF4500\">BA</span>A&nbsp;&nbsp;<span style=\"color:#FF4500\">BA</span>B<br></td><td><span style=\"color:#FF4500\">BAA</span>&nbsp;&nbsp;<span style=\"color:#FF4500\">BAA</span><br></td><td><span style=\"color:#FF4500\">BA</span>A&nbsp;&nbsp;B<span style=\"color:#FF4500\">BA</span><br></td><td>B<span style=\"color:#FF4500\">AA</span>&nbsp;&nbsp;<span style=\"color:#FF4500\">AA</span>BA<br><span style=\"color:#FF4500\">BA</span>A&nbsp;&nbsp;AA<span style=\"color:#FF4500\">BA</span><br></td><td><span style=\"color:#FF4500\">BA</span>A&nbsp;&nbsp;AB<span style=\"color:#FF4500\">BA</span><br></td></tr><tr><th scope=\"row\"><span style=\"color:green\">Test2</span><br>BBA</th><td>B<span style=\"color:#FF4500\">BA</span>&nbsp;&nbsp;A<span style=\"color:#FF4500\">BA</span><br></td><td>B<span style=\"color:#FF4500\">BA</span>&nbsp;&nbsp;<span style=\"color:#FF4500\">BA</span>B<br></td><td>B<span style=\"color:#FF4500\">BA</span>&nbsp;&nbsp;<span style=\"color:#FF4500\">BA</span>A<br></td><td><span style=\"color:#FF4500\">BBA</span>&nbsp;&nbsp;<span style=\"color:#FF4500\">BBA</span><br></td><td>B<span style=\"color:#FF4500\">BA</span>&nbsp;&nbsp;AA<span style=\"color:#FF4500\">BA</span><br></td><td><span style=\"color:#FF4500\">BBA</span>&nbsp;&nbsp;A<span style=\"color:#FF4500\">BBA</span><br></td></tr><tr><th scope=\"row\"><span style=\"color:#ff0000\">Test3</span><br>AABA</th><td>A<span style=\"color:#FF4500\">ABA</span>&nbsp;&nbsp;<span style=\"color:#FF4500\">ABA</span><br></td><td>AA<span style=\"color:#FF4500\">BA</span>&nbsp;&nbsp;<span style=\"color:#FF4500\">BA</span>B<br>A<span style=\"color:#FF4500\">AB</span>A&nbsp;&nbsp;B<span style=\"color:#FF4500\">AB</span><br></td><td>AA<span style=\"color:#FF4500\">BA</span>&nbsp;&nbsp;<span style=\"color:#FF4500\">BA</span>A<br><span style=\"color:#FF4500\">AA</span>BA&nbsp;&nbsp;B<span style=\"color:#FF4500\">AA</span><br></td><td>AA<span style=\"color:#FF4500\">BA</span>&nbsp;&nbsp;B<span style=\"color:#FF4500\">BA</span><br></td><td><span style=\"color:#FF4500\">AABA</span>&nbsp;&nbsp;<span style=\"color:#FF4500\">AABA</span><br></td><td>A<span style=\"color:#FF4500\">AB</span>A&nbsp;&nbsp;<span style=\"color:#FF4500\">AB</span>BA<br>AA<span style=\"color:#FF4500\">BA</span>&nbsp;&nbsp;AB<span style=\"color:#FF4500\">BA</span><br></td></tr><tr><th scope=\"row\"><span style=\"color:#ff0000\">Test4</span><br>ABBA</th><td><span style=\"color:#FF4500\">AB</span>BA&nbsp;&nbsp;<span style=\"color:#FF4500\">AB</span>A<br>AB<span style=\"color:#FF4500\">BA</span>&nbsp;&nbsp;A<span style=\"color:#FF4500\">BA</span><br></td><td>AB<span style=\"color:#FF4500\">BA</span>&nbsp;&nbsp;<span style=\"color:#FF4500\">BA</span>B<br><span style=\"color:#FF4500\">AB</span>BA&nbsp;&nbsp;B<span style=\"color:#FF4500\">AB</span><br></td><td>AB<span style=\"color:#FF4500\">BA</span>&nbsp;&nbsp;<span style=\"color:#FF4500\">BA</span>A<br></td><td>A<span style=\"color:#FF4500\">BBA</span>&nbsp;&nbsp;<span style=\"color:#FF4500\">BBA</span><br></td><td><span style=\"color:#FF4500\">AB</span>BA&nbsp;&nbsp;A<span style=\"color:#FF4500\">AB</span>A<br>AB<span style=\"color:#FF4500\">BA</span>&nbsp;&nbsp;AA<span style=\"color:#FF4500\">BA</span><br></td><td><span style=\"color:#FF4500\">ABBA</span>&nbsp;&nbsp;<span style=\"color:#FF4500\">ABBA</span><br></td></tr></table>"
      ],
      "text/plain": [
       "<IPython.core.display.HTML object>"
      ]
     },
     "execution_count": 20,
     "metadata": {},
     "output_type": "execute_result"
    }
   ],
   "source": [
    "htmlcode = htmltables.longestsharedsubstringstable(sd) \n",
    "HTML(htmlcode)"
   ]
  },
  {
   "cell_type": "markdown",
   "metadata": {},
   "source": [
    "If you want to save the html to a file, you can use the 'htmltables.save_html' function. The parameter 'include_doctags' determines, if you want to make it a full html document that can be opened in a browser, or just the table html code itself."
   ]
  },
  {
   "cell_type": "code",
   "execution_count": 22,
   "metadata": {
    "collapsed": true
   },
   "outputs": [],
   "source": [
    "htmltables.save_html(htmlcode=htmlcode, filename='exampletable.html', include_doctags=True)"
   ]
  },
  {
   "cell_type": "markdown",
   "metadata": {},
   "source": [
    "Other comparisons\n",
    "-------------------"
   ]
  },
  {
   "cell_type": "markdown",
   "metadata": {},
   "source": [
    "We looked at the 'longestsharedsubstrings' functions above, but we can look at different kinds of similarities between string sets."
   ]
  },
  {
   "cell_type": "code",
   "execution_count": 26,
   "metadata": {},
   "outputs": [
    {
     "data": {
      "image/png": "[encoded data removed]",
      "text/plain": [
       "<matplotlib.figure.Figure at 0x7f620cc632b0>"
      ]
     },
     "metadata": {},
     "output_type": "display_data"
    }
   ],
   "source": [
    "cm = compare_sets.crosscorrelationmax(sd, comparison=('Test', 'Training'))\n",
    "ax = plotting.plot_comparison(cm)"
   ]
  },
  {
   "cell_type": "code",
   "execution_count": null,
   "metadata": {
    "collapsed": true
   },
   "outputs": [],
   "source": []
  }
 ],
 "metadata": {
  "kernelspec": {
   "display_name": "Python 3",
   "language": "python",
   "name": "python3"
  },
  "language_info": {
   "codemirror_mode": {
    "name": "ipython",
    "version": 3
   },
   "file_extension": ".py",
   "mimetype": "text/x-python",
   "name": "python",
   "nbconvert_exporter": "python",
   "pygments_lexer": "ipython3",
   "version": "3.6.1"
  }
 },
 "nbformat": 4,
 "nbformat_minor": 1
}
