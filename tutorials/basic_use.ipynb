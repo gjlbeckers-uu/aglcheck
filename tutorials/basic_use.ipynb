{
 "cells": [
  {
   "cell_type": "markdown",
   "metadata": {},
   "source": [
    "Basic usage aglcheck\n",
    "==="
   ]
  },
  {
   "cell_type": "code",
   "execution_count": 1,
   "metadata": {
    "collapsed": false
   },
   "outputs": [],
   "source": [
    "from __future__ import print_function\n",
    "%matplotlib inline\n",
    "from IPython.core.display import HTML\n",
    "from aglcheck import compare_sets, examplestringdata, get_examplestringdata, htmltables, read_stringdata, StringData "
   ]
  },
  {
   "cell_type": "markdown",
   "metadata": {},
   "source": [
    "Reading strings\n",
    "---"
   ]
  },
  {
   "cell_type": "markdown",
   "metadata": {},
   "source": [
    "Before we can do anything, we need to get the strings into a _StringData_ object. There are two ways of doing this."
   ]
  },
  {
   "cell_type": "markdown",
   "metadata": {},
   "source": [
    "1) Provide strings directly"
   ]
  },
  {
   "cell_type": "code",
   "execution_count": 2,
   "metadata": {
    "collapsed": false
   },
   "outputs": [
    {
     "name": "stdout",
     "output_type": "stream",
     "text": [
      "<stringdata: ABA BAB AABA BBA BAA ABBA>\n"
     ]
    }
   ],
   "source": [
    "sd = StringData(strings=['ABA', 'BAB', 'AABA', 'BBA', 'BAA', 'ABBA'])\n",
    "print(sd)"
   ]
  },
  {
   "cell_type": "markdown",
   "metadata": {},
   "source": [
    "2) Read strings from a special text file (yaml format) that contains string information. See 'examplestringfile.yaml' for an example that you can use as a template."
   ]
  },
  {
   "cell_type": "code",
   "execution_count": 3,
   "metadata": {
    "collapsed": false
   },
   "outputs": [
    {
     "name": "stdout",
     "output_type": "stream",
     "text": [
      "<stringdata: ABA BAB AABA BBA BAA ABBA>\n"
     ]
    }
   ],
   "source": [
    "sd = read_stringdata('examplestringfile.yaml')\n",
    "print(sd)"
   ]
  },
  {
   "cell_type": "markdown",
   "metadata": {},
   "source": [
    "Comparing strings\n",
    "---"
   ]
  },
  {
   "cell_type": "markdown",
   "metadata": {},
   "source": [
    "Next, we want to compare the strings in the data set, using a comparison function. For example, we want to look for the longest shared substrings."
   ]
  },
  {
   "cell_type": "code",
   "execution_count": 4,
   "metadata": {
    "collapsed": false
   },
   "outputs": [],
   "source": [
    "ct = compare_sets.longestsubstringlength(sd)"
   ]
  },
  {
   "cell_type": "markdown",
   "metadata": {},
   "source": [
    " The object that was returned, a ComparisonTable, can be used for direct vizualization of the results:"
   ]
  },
  {
   "cell_type": "code",
   "execution_count": 5,
   "metadata": {
    "collapsed": false
   },
   "outputs": [
    {
     "data": {
      "image/png": "[encoded data removed]",
      "text/plain": [
       "<matplotlib.figure.Figure at 0x7f2cd8ea2c50>"
      ]
     },
     "metadata": {},
     "output_type": "display_data"
    }
   ],
   "source": [
    "compare_sets.plot_comparison(ct)"
   ]
  },
  {
   "cell_type": "markdown",
   "metadata": {},
   "source": [
    "Or to get the results as a matrix that can be used for further evaluations:"
   ]
  },
  {
   "cell_type": "code",
   "execution_count": 6,
   "metadata": {
    "collapsed": false
   },
   "outputs": [
    {
     "data": {
      "text/plain": [
       "[[3, 2, 3, 2, 2, 2],\n",
       " [2, 3, 2, 2, 2, 2],\n",
       " [3, 2, 4, 2, 2, 2],\n",
       " [2, 2, 2, 3, 2, 3],\n",
       " [2, 2, 2, 2, 3, 2],\n",
       " [2, 2, 2, 3, 2, 4]]"
      ]
     },
     "execution_count": 6,
     "metadata": {},
     "output_type": "execute_result"
    }
   ],
   "source": [
    "ct.get_matrix()"
   ]
  },
  {
   "cell_type": "markdown",
   "metadata": {
    "collapsed": true
   },
   "source": [
    "The order of the rows and columns correspond to the sequence of strings in the StringData object"
   ]
  },
  {
   "cell_type": "code",
   "execution_count": 7,
   "metadata": {
    "collapsed": false
   },
   "outputs": [
    {
     "data": {
      "text/plain": [
       "['ABA', 'BAB', 'AABA', 'BBA', 'BAA', 'ABBA']"
      ]
     },
     "execution_count": 7,
     "metadata": {},
     "output_type": "execute_result"
    }
   ],
   "source": [
    "sd.strings"
   ]
  },
  {
   "cell_type": "markdown",
   "metadata": {},
   "source": [
    "Alternatively, you want an HTML table that highlights the longest shared substrings. The returned HTML code can be written to file or shown in a notebook. To do the latter use the ipython HTML function. "
   ]
  },
  {
   "cell_type": "code",
   "execution_count": 8,
   "metadata": {
    "collapsed": false
   },
   "outputs": [
    {
     "data": {
      "text/html": [
       "<style>thead {align:center;}tbody {color:black;}table, th, td {border: 1px solid black; border-collapse: collapse;} th, td {padding: 15px;}</style><table><caption>Longest substring matches</caption><thead><tr><th></th><th scope=\"col\"><span style=\"color:black\">ABA</span><br>ABA</th><th scope=\"col\"><span style=\"color:black\">BAB</span><br>BAB</th><th scope=\"col\"><span style=\"color:black\">AABA</span><br>AABA</th><th scope=\"col\"><span style=\"color:black\">BBA</span><br>BBA</th><th scope=\"col\"><span style=\"color:black\">BAA</span><br>BAA</th><th scope=\"col\"><span style=\"color:black\">ABBA</span><br>ABBA</th></tr></thead><tr><th scope=\"row\"><span style=\"color:black\">ABA</span><br>ABA</th><td><span style=\"color:#FF4500\">ABA</span>&nbsp;&nbsp;<span style=\"color:#FF4500\">ABA</span><br></td><td><span style=\"color:#FF4500\">AB</span>A&nbsp;&nbsp;B<span style=\"color:#FF4500\">AB</span><br>A<span style=\"color:#FF4500\">BA</span>&nbsp;&nbsp;<span style=\"color:#FF4500\">BA</span>B<br></td><td><span style=\"color:#FF4500\">ABA</span>&nbsp;&nbsp;A<span style=\"color:#FF4500\">ABA</span><br></td><td>A<span style=\"color:#FF4500\">BA</span>&nbsp;&nbsp;B<span style=\"color:#FF4500\">BA</span><br></td><td>A<span style=\"color:#FF4500\">BA</span>&nbsp;&nbsp;<span style=\"color:#FF4500\">BA</span>A<br></td><td><span style=\"color:#FF4500\">AB</span>A&nbsp;&nbsp;<span style=\"color:#FF4500\">AB</span>BA<br>A<span style=\"color:#FF4500\">BA</span>&nbsp;&nbsp;AB<span style=\"color:#FF4500\">BA</span><br></td></tr><tr><th scope=\"row\"><span style=\"color:black\">BAB</span><br>BAB</th><td><span style=\"color:#FF4500\">BA</span>B&nbsp;&nbsp;A<span style=\"color:#FF4500\">BA</span><br>B<span style=\"color:#FF4500\">AB</span>&nbsp;&nbsp;<span style=\"color:#FF4500\">AB</span>A<br></td><td><span style=\"color:#FF4500\">BAB</span>&nbsp;&nbsp;<span style=\"color:#FF4500\">BAB</span><br></td><td><span style=\"color:#FF4500\">BA</span>B&nbsp;&nbsp;AA<span style=\"color:#FF4500\">BA</span><br>B<span style=\"color:#FF4500\">AB</span>&nbsp;&nbsp;A<span style=\"color:#FF4500\">AB</span>A<br></td><td><span style=\"color:#FF4500\">BA</span>B&nbsp;&nbsp;B<span style=\"color:#FF4500\">BA</span><br></td><td><span style=\"color:#FF4500\">BA</span>B&nbsp;&nbsp;<span style=\"color:#FF4500\">BA</span>A<br></td><td><span style=\"color:#FF4500\">BA</span>B&nbsp;&nbsp;AB<span style=\"color:#FF4500\">BA</span><br>B<span style=\"color:#FF4500\">AB</span>&nbsp;&nbsp;<span style=\"color:#FF4500\">AB</span>BA<br></td></tr><tr><th scope=\"row\"><span style=\"color:black\">AABA</span><br>AABA</th><td>A<span style=\"color:#FF4500\">ABA</span>&nbsp;&nbsp;<span style=\"color:#FF4500\">ABA</span><br></td><td>A<span style=\"color:#FF4500\">AB</span>A&nbsp;&nbsp;B<span style=\"color:#FF4500\">AB</span><br>AA<span style=\"color:#FF4500\">BA</span>&nbsp;&nbsp;<span style=\"color:#FF4500\">BA</span>B<br></td><td><span style=\"color:#FF4500\">AABA</span>&nbsp;&nbsp;<span style=\"color:#FF4500\">AABA</span><br></td><td>AA<span style=\"color:#FF4500\">BA</span>&nbsp;&nbsp;B<span style=\"color:#FF4500\">BA</span><br></td><td><span style=\"color:#FF4500\">AA</span>BA&nbsp;&nbsp;B<span style=\"color:#FF4500\">AA</span><br>AA<span style=\"color:#FF4500\">BA</span>&nbsp;&nbsp;<span style=\"color:#FF4500\">BA</span>A<br></td><td>A<span style=\"color:#FF4500\">AB</span>A&nbsp;&nbsp;<span style=\"color:#FF4500\">AB</span>BA<br>AA<span style=\"color:#FF4500\">BA</span>&nbsp;&nbsp;AB<span style=\"color:#FF4500\">BA</span><br></td></tr><tr><th scope=\"row\"><span style=\"color:black\">BBA</span><br>BBA</th><td>B<span style=\"color:#FF4500\">BA</span>&nbsp;&nbsp;A<span style=\"color:#FF4500\">BA</span><br></td><td>B<span style=\"color:#FF4500\">BA</span>&nbsp;&nbsp;<span style=\"color:#FF4500\">BA</span>B<br></td><td>B<span style=\"color:#FF4500\">BA</span>&nbsp;&nbsp;AA<span style=\"color:#FF4500\">BA</span><br></td><td><span style=\"color:#FF4500\">BBA</span>&nbsp;&nbsp;<span style=\"color:#FF4500\">BBA</span><br></td><td>B<span style=\"color:#FF4500\">BA</span>&nbsp;&nbsp;<span style=\"color:#FF4500\">BA</span>A<br></td><td><span style=\"color:#FF4500\">BBA</span>&nbsp;&nbsp;A<span style=\"color:#FF4500\">BBA</span><br></td></tr><tr><th scope=\"row\"><span style=\"color:black\">BAA</span><br>BAA</th><td><span style=\"color:#FF4500\">BA</span>A&nbsp;&nbsp;A<span style=\"color:#FF4500\">BA</span><br></td><td><span style=\"color:#FF4500\">BA</span>A&nbsp;&nbsp;<span style=\"color:#FF4500\">BA</span>B<br></td><td><span style=\"color:#FF4500\">BA</span>A&nbsp;&nbsp;AA<span style=\"color:#FF4500\">BA</span><br>B<span style=\"color:#FF4500\">AA</span>&nbsp;&nbsp;<span style=\"color:#FF4500\">AA</span>BA<br></td><td><span style=\"color:#FF4500\">BA</span>A&nbsp;&nbsp;B<span style=\"color:#FF4500\">BA</span><br></td><td><span style=\"color:#FF4500\">BAA</span>&nbsp;&nbsp;<span style=\"color:#FF4500\">BAA</span><br></td><td><span style=\"color:#FF4500\">BA</span>A&nbsp;&nbsp;AB<span style=\"color:#FF4500\">BA</span><br></td></tr><tr><th scope=\"row\"><span style=\"color:black\">ABBA</span><br>ABBA</th><td><span style=\"color:#FF4500\">AB</span>BA&nbsp;&nbsp;<span style=\"color:#FF4500\">AB</span>A<br>AB<span style=\"color:#FF4500\">BA</span>&nbsp;&nbsp;A<span style=\"color:#FF4500\">BA</span><br></td><td><span style=\"color:#FF4500\">AB</span>BA&nbsp;&nbsp;B<span style=\"color:#FF4500\">AB</span><br>AB<span style=\"color:#FF4500\">BA</span>&nbsp;&nbsp;<span style=\"color:#FF4500\">BA</span>B<br></td><td><span style=\"color:#FF4500\">AB</span>BA&nbsp;&nbsp;A<span style=\"color:#FF4500\">AB</span>A<br>AB<span style=\"color:#FF4500\">BA</span>&nbsp;&nbsp;AA<span style=\"color:#FF4500\">BA</span><br></td><td>A<span style=\"color:#FF4500\">BBA</span>&nbsp;&nbsp;<span style=\"color:#FF4500\">BBA</span><br></td><td>AB<span style=\"color:#FF4500\">BA</span>&nbsp;&nbsp;<span style=\"color:#FF4500\">BA</span>A<br></td><td><span style=\"color:#FF4500\">ABBA</span>&nbsp;&nbsp;<span style=\"color:#FF4500\">ABBA</span><br></td></tr></table>"
      ],
      "text/plain": [
       "<IPython.core.display.HTML object>"
      ]
     },
     "execution_count": 8,
     "metadata": {},
     "output_type": "execute_result"
    }
   ],
   "source": [
    "html = htmltables.longestsubstringstable(sd)\n",
    "HTML(html)"
   ]
  },
  {
   "cell_type": "markdown",
   "metadata": {},
   "source": [
    "String labels\n",
    "---"
   ]
  },
  {
   "cell_type": "markdown",
   "metadata": {},
   "source": [
    "You want to refer to strings with a label, not the string itself. For example, if strings are long, or have different functions. You can do this by providing the strings in a different way, not as a list of strings, but a list of dictionaries:"
   ]
  },
  {
   "cell_type": "code",
   "execution_count": 9,
   "metadata": {
    "collapsed": false
   },
   "outputs": [
    {
     "name": "stdout",
     "output_type": "stream",
     "text": [
      "<stringdata: Go NoGo Test1 Test2>\n"
     ]
    }
   ],
   "source": [
    "sd = StringData(strings=[{'Go': 'abcdefg'}, {'NoGo': 'hijklmn'}, {'Test1': 'cdefgij'}, {'Test2': 'klmnefg'}])\n",
    "print(sd)"
   ]
  },
  {
   "cell_type": "code",
   "execution_count": 10,
   "metadata": {
    "collapsed": false
   },
   "outputs": [
    {
     "data": {
      "image/png": "[encoded data removed]",
      "text/plain": [
       "<matplotlib.figure.Figure at 0x7f2cd6965910>"
      ]
     },
     "metadata": {},
     "output_type": "display_data"
    }
   ],
   "source": [
    "ct = compare_sets.longestsubstringlength(sd)\n",
    "compare_sets.plot_comparison(ct)"
   ]
  },
  {
   "cell_type": "code",
   "execution_count": 11,
   "metadata": {
    "collapsed": false
   },
   "outputs": [
    {
     "data": {
      "text/html": [
       "<style>thead {align:center;}tbody {color:black;}table, th, td {border: 1px solid black; border-collapse: collapse;} th, td {padding: 15px;}</style><table><caption>Longest substring matches</caption><thead><tr><th></th><th scope=\"col\"><span style=\"color:black\">Go</span><br>abcdefg</th><th scope=\"col\"><span style=\"color:black\">NoGo</span><br>hijklmn</th><th scope=\"col\"><span style=\"color:black\">Test1</span><br>cdefgij</th><th scope=\"col\"><span style=\"color:black\">Test2</span><br>klmnefg</th></tr></thead><tr><th scope=\"row\"><span style=\"color:black\">Go</span><br>abcdefg</th><td><span style=\"color:#FF4500\">abcdefg</span>&nbsp;&nbsp;<span style=\"color:#FF4500\">abcdefg</span><br></td><td></td><td>ab<span style=\"color:#FF4500\">cdefg</span>&nbsp;&nbsp;<span style=\"color:#FF4500\">cdefg</span>ij<br></td><td>abcd<span style=\"color:#FF4500\">efg</span>&nbsp;&nbsp;klmn<span style=\"color:#FF4500\">efg</span><br></td></tr><tr><th scope=\"row\"><span style=\"color:black\">NoGo</span><br>hijklmn</th><td></td><td><span style=\"color:#FF4500\">hijklmn</span>&nbsp;&nbsp;<span style=\"color:#FF4500\">hijklmn</span><br></td><td>h<span style=\"color:#FF4500\">ij</span>klmn&nbsp;&nbsp;cdefg<span style=\"color:#FF4500\">ij</span><br></td><td>hij<span style=\"color:#FF4500\">klmn</span>&nbsp;&nbsp;<span style=\"color:#FF4500\">klmn</span>efg<br></td></tr><tr><th scope=\"row\"><span style=\"color:black\">Test1</span><br>cdefgij</th><td><span style=\"color:#FF4500\">cdefg</span>ij&nbsp;&nbsp;ab<span style=\"color:#FF4500\">cdefg</span><br></td><td>cdefg<span style=\"color:#FF4500\">ij</span>&nbsp;&nbsp;h<span style=\"color:#FF4500\">ij</span>klmn<br></td><td><span style=\"color:#FF4500\">cdefgij</span>&nbsp;&nbsp;<span style=\"color:#FF4500\">cdefgij</span><br></td><td>cd<span style=\"color:#FF4500\">efg</span>ij&nbsp;&nbsp;klmn<span style=\"color:#FF4500\">efg</span><br></td></tr><tr><th scope=\"row\"><span style=\"color:black\">Test2</span><br>klmnefg</th><td>klmn<span style=\"color:#FF4500\">efg</span>&nbsp;&nbsp;abcd<span style=\"color:#FF4500\">efg</span><br></td><td><span style=\"color:#FF4500\">klmn</span>efg&nbsp;&nbsp;hij<span style=\"color:#FF4500\">klmn</span><br></td><td>klmn<span style=\"color:#FF4500\">efg</span>&nbsp;&nbsp;cd<span style=\"color:#FF4500\">efg</span>ij<br></td><td><span style=\"color:#FF4500\">klmnefg</span>&nbsp;&nbsp;<span style=\"color:#FF4500\">klmnefg</span><br></td></tr></table>"
      ],
      "text/plain": [
       "<IPython.core.display.HTML object>"
      ]
     },
     "execution_count": 11,
     "metadata": {},
     "output_type": "execute_result"
    }
   ],
   "source": [
    "html = htmltables.longestsubstringstable(sd)\n",
    "HTML(html)"
   ]
  }
 ],
 "metadata": {
  "kernelspec": {
   "display_name": "Python 2",
   "language": "python",
   "name": "python2"
  },
  "language_info": {
   "codemirror_mode": {
    "name": "ipython",
    "version": 2
   },
   "file_extension": ".py",
   "mimetype": "text/x-python",
   "name": "python",
   "nbconvert_exporter": "python",
   "pygments_lexer": "ipython2",
   "version": "2.7.12"
  }
 },
 "nbformat": 4,
 "nbformat_minor": 0
}
